{
 "cells": [
  {
   "cell_type": "code",
   "execution_count": 1,
   "id": "d1dbd931-d817-4b60-86e1-d0a77806ad19",
   "metadata": {},
   "outputs": [],
   "source": [
    "import pandas as pd\n",
    "#from matplotlib import cm\n",
    "#plt.style.use('ggplot')"
   ]
  },
  {
   "cell_type": "code",
   "execution_count": 2,
   "id": "fcff023d-a600-416b-8173-28003bd6aad7",
   "metadata": {},
   "outputs": [],
   "source": [
    "course = pd.read_csv(\"udemy_courses.csv\")"
   ]
  },
  {
   "cell_type": "code",
   "execution_count": 3,
   "id": "211ed88b-4c61-45a4-b24c-64ff7ec19048",
   "metadata": {},
   "outputs": [],
   "source": [
    "course = course.drop(columns = [\"is_paid\", \"level\", \"price\", \"num_reviews\", \"level\", \"content_duration\", \"published_timestamp\",\"num_subscribers\",\"num_lectures\", \"course_id\"])\n",
    "course = course.rename(columns = {'course_title' : 'title', 'subject' : 'tag'})\n",
    "#course.head(5)"
   ]
  },
  {
   "cell_type": "code",
   "execution_count": 4,
   "id": "78253e38-fd73-4196-8dcf-0e3a4b0e7a48",
   "metadata": {},
   "outputs": [],
   "source": [
    "book = pd.read_csv('goodreads_data.csv')\n",
    "book = book.drop(columns = [\"Avg_Rating\", \"Num_Ratings\", \"Author\"])\n",
    "book = book.rename(columns = {'Book' : 'title', 'Genres' : 'tag', 'URL' : 'url'})"
   ]
  },
  {
   "cell_type": "code",
   "execution_count": 5,
   "id": "eb03eeeb-7891-4a7f-88d9-6dfecb8494fc",
   "metadata": {},
   "outputs": [],
   "source": [
    "combined = pd.concat([book, course], ignore_index = True)\n",
    "combined.drop_duplicates(subset=['title'], keep='first', inplace=True)\n",
    "#if 'Description' not in combined.columns:\n",
    "#    combined['Description'] = \"0\"\n",
    "combined['Description'] = combined['Description'].fillna(' ') \n",
    "combined['Unnamed: 0']  = combined['Unnamed: 0'].fillna(' ')\n",
    "#combined.head(5)\n",
    "#combined.tail(5)"
   ]
  },
  {
   "cell_type": "code",
   "execution_count": 6,
   "id": "2a1f8f41-d4cc-48ec-a1fb-98141387d558",
   "metadata": {},
   "outputs": [],
   "source": [
    "#combined.isnull().sum()"
   ]
  },
  {
   "cell_type": "code",
   "execution_count": 7,
   "id": "67a82f55-90a7-4cfa-b6fe-d371ba5f16dd",
   "metadata": {},
   "outputs": [],
   "source": [
    "#combined.tail(5)"
   ]
  },
  {
   "cell_type": "code",
   "execution_count": null,
   "id": "7582f300-4c44-4d50-b6bb-98121c39647b",
   "metadata": {},
   "outputs": [],
   "source": []
  }
 ],
 "metadata": {
  "kernelspec": {
   "display_name": "Python 3 (ipykernel)",
   "language": "python",
   "name": "python3"
  },
  "language_info": {
   "codemirror_mode": {
    "name": "ipython",
    "version": 3
   },
   "file_extension": ".py",
   "mimetype": "text/x-python",
   "name": "python",
   "nbconvert_exporter": "python",
   "pygments_lexer": "ipython3",
   "version": "3.13.2"
  }
 },
 "nbformat": 4,
 "nbformat_minor": 5
}
