{
 "cells": [
  {
   "cell_type": "code",
   "execution_count": 1,
   "id": "a0063fe5-1c86-43cf-9809-8b352956d177",
   "metadata": {},
   "outputs": [],
   "source": [
    "import pandas as pd\n",
    "import re\n",
    "import joblib\n",
    "import os"
   ]
  },
  {
   "cell_type": "code",
   "execution_count": 2,
   "id": "5bb70e75-ff60-4a9d-b87c-a8b4b8be7dfc",
   "metadata": {},
   "outputs": [],
   "source": [
    "from ipynb.fs.full. datasets import combined"
   ]
  },
  {
   "cell_type": "code",
   "execution_count": 3,
   "id": "b2dddf08-5af9-4756-8987-800d0433f6cc",
   "metadata": {},
   "outputs": [],
   "source": [
    "combined.columns = combined.columns.str.replace('[^a-zA-Z0-9]', '', regex = True)\n",
    "#print(combined)\n",
    "for col in combined.columns:\n",
    "    if combined[col].dtype == 'object':\n",
    "        combined[col] = combined[col].str.lower()"
   ]
  },
  {
   "cell_type": "code",
   "execution_count": 4,
   "id": "1d1e205e-8158-4c2f-8085-e0326e6fe091",
   "metadata": {},
   "outputs": [],
   "source": [
    "#combined.head(5)"
   ]
  },
  {
   "cell_type": "code",
   "execution_count": 5,
   "id": "9957982f-f7a5-4273-94f2-c98e45333fd9",
   "metadata": {},
   "outputs": [],
   "source": [
    "def preprocess_data(combined):\n",
    "    combined['title'] = combined['title'].apply(clean_text)\n",
    "    optional_text_columns = ['Description', 'tag']\n",
    "    for col in optional_text_columns:\n",
    "        if col in combined.columns:\n",
    "            combined[col] = combined[col].apply(clean_text)\n",
    "    return combined\n",
    "    "
   ]
  },
  {
   "cell_type": "code",
   "execution_count": 6,
   "id": "1a5f84d5-a784-48d8-8571-e8a370c59b81",
   "metadata": {},
   "outputs": [],
   "source": [
    "combined['combined_data'] = (combined['title'] + ' ' + combined['Description'] + ' ' + combined['tag'].fillna(''))"
   ]
  },
  {
   "cell_type": "code",
   "execution_count": 7,
   "id": "370fcd1b-38de-4541-9fcd-e93731dd5277",
   "metadata": {},
   "outputs": [],
   "source": [
    "from sklearn.feature_extraction.text import TfidfVectorizer\n",
    "tfidf = TfidfVectorizer(\n",
    "    stop_words='english', \n",
    "    max_features=5000,\n",
    "    ngram_range=(1,2)\n",
    ")"
   ]
  },
  {
   "cell_type": "code",
   "execution_count": 8,
   "id": "935a1d10-5abc-4a59-8271-bd9ae58e1c6d",
   "metadata": {},
   "outputs": [
    {
     "name": "stdout",
     "output_type": "stream",
     "text": [
      "(13533, 5000)\n"
     ]
    }
   ],
   "source": [
    "tfidf_matrix = tfidf.fit_transform(combined['combined_data'])\n",
    "print(tfidf_matrix.shape)"
   ]
  },
  {
   "cell_type": "code",
   "execution_count": 9,
   "id": "f4605ae3-7e04-4e6a-9d69-dcc7d94d6027",
   "metadata": {},
   "outputs": [
    {
     "data": {
      "text/html": [
       "<div>\n",
       "<style scoped>\n",
       "    .dataframe tbody tr th:only-of-type {\n",
       "        vertical-align: middle;\n",
       "    }\n",
       "\n",
       "    .dataframe tbody tr th {\n",
       "        vertical-align: top;\n",
       "    }\n",
       "\n",
       "    .dataframe thead th {\n",
       "        text-align: right;\n",
       "    }\n",
       "</style>\n",
       "<table border=\"1\" class=\"dataframe\">\n",
       "  <thead>\n",
       "    <tr style=\"text-align: right;\">\n",
       "      <th></th>\n",
       "      <th>Unnamed0</th>\n",
       "      <th>title</th>\n",
       "      <th>Description</th>\n",
       "      <th>tag</th>\n",
       "      <th>url</th>\n",
       "      <th>combined_data</th>\n",
       "    </tr>\n",
       "  </thead>\n",
       "  <tbody>\n",
       "    <tr>\n",
       "      <th>13673</th>\n",
       "      <td></td>\n",
       "      <td>learn jquery from scratch - master of javascri...</td>\n",
       "      <td></td>\n",
       "      <td>web development</td>\n",
       "      <td>https://www.udemy.com/easy-jquery-for-beginner...</td>\n",
       "      <td>learn jquery from scratch - master of javascri...</td>\n",
       "    </tr>\n",
       "    <tr>\n",
       "      <th>13674</th>\n",
       "      <td></td>\n",
       "      <td>how to design a wordpress website with no codi...</td>\n",
       "      <td></td>\n",
       "      <td>web development</td>\n",
       "      <td>https://www.udemy.com/how-to-make-a-wordpress-...</td>\n",
       "      <td>how to design a wordpress website with no codi...</td>\n",
       "    </tr>\n",
       "    <tr>\n",
       "      <th>13675</th>\n",
       "      <td></td>\n",
       "      <td>learn and build using polymer</td>\n",
       "      <td></td>\n",
       "      <td>web development</td>\n",
       "      <td>https://www.udemy.com/learn-and-build-using-po...</td>\n",
       "      <td>learn and build using polymer   web development</td>\n",
       "    </tr>\n",
       "    <tr>\n",
       "      <th>13676</th>\n",
       "      <td></td>\n",
       "      <td>css animations: create amazing effects on your...</td>\n",
       "      <td></td>\n",
       "      <td>web development</td>\n",
       "      <td>https://www.udemy.com/css-animations-create-am...</td>\n",
       "      <td>css animations: create amazing effects on your...</td>\n",
       "    </tr>\n",
       "    <tr>\n",
       "      <th>13677</th>\n",
       "      <td></td>\n",
       "      <td>using modx cms to build websites: a beginner's...</td>\n",
       "      <td></td>\n",
       "      <td>web development</td>\n",
       "      <td>https://www.udemy.com/using-modx-cms-to-build-...</td>\n",
       "      <td>using modx cms to build websites: a beginner's...</td>\n",
       "    </tr>\n",
       "  </tbody>\n",
       "</table>\n",
       "</div>"
      ],
      "text/plain": [
       "      Unnamed0                                              title Description  \\\n",
       "13673           learn jquery from scratch - master of javascri...               \n",
       "13674           how to design a wordpress website with no codi...               \n",
       "13675                               learn and build using polymer               \n",
       "13676           css animations: create amazing effects on your...               \n",
       "13677           using modx cms to build websites: a beginner's...               \n",
       "\n",
       "                   tag                                                url  \\\n",
       "13673  web development  https://www.udemy.com/easy-jquery-for-beginner...   \n",
       "13674  web development  https://www.udemy.com/how-to-make-a-wordpress-...   \n",
       "13675  web development  https://www.udemy.com/learn-and-build-using-po...   \n",
       "13676  web development  https://www.udemy.com/css-animations-create-am...   \n",
       "13677  web development  https://www.udemy.com/using-modx-cms-to-build-...   \n",
       "\n",
       "                                           combined_data  \n",
       "13673  learn jquery from scratch - master of javascri...  \n",
       "13674  how to design a wordpress website with no codi...  \n",
       "13675    learn and build using polymer   web development  \n",
       "13676  css animations: create amazing effects on your...  \n",
       "13677  using modx cms to build websites: a beginner's...  "
      ]
     },
     "execution_count": 9,
     "metadata": {},
     "output_type": "execute_result"
    }
   ],
   "source": [
    "#combined.tail(5)"
   ]
  },
  {
   "cell_type": "code",
   "execution_count": 10,
   "id": "0a16b676-4982-47d3-830b-0c795276ad7a",
   "metadata": {},
   "outputs": [],
   "source": [
    "#joblib.dump(tfidf, 'models/tfidf_vectorizer.pkl')"
   ]
  },
  {
   "cell_type": "code",
   "execution_count": 11,
   "id": "616fdb23-0bf2-4b59-9860-797342d0d334",
   "metadata": {},
   "outputs": [],
   "source": [
    "from sklearn.metrics.pairwise import cosine_similarity\n",
    "cosine_sim = cosine_similarity(tfidf_matrix, tfidf_matrix)\n",
    "query = \"python programming for beginners\"\n",
    "query_vector = tfidf.transform([query])\n",
    "similarity_scores = cosine_similarity(query_vector, tfidf_matrix)"
   ]
  },
  {
   "cell_type": "code",
   "execution_count": 16,
   "id": "4f167afc-d77a-4bc0-9cd3-51be2970be7b",
   "metadata": {},
   "outputs": [
    {
     "data": {
      "text/plain": [
       "['models/tfidf_matrix.pkl']"
      ]
     },
     "execution_count": 16,
     "metadata": {},
     "output_type": "execute_result"
    }
   ],
   "source": [
    "os.makedirs(\"models\", exist_ok=True)\n",
    "joblib.dump(tfidf, 'models/tfidf_vectorizer.pkl')\n",
    "joblib.dump(tfidf_matrix, \"models/tfidf_matrix.pkl\")  # Add this line!\n"
   ]
  },
  {
   "cell_type": "code",
   "execution_count": 13,
   "id": "e827b89c-7399-4ced-8ecb-a5b9ceed942e",
   "metadata": {},
   "outputs": [],
   "source": [
    "#for testing purpose\n",
    "#feature_names = tfidf.get_feature_names_out()\n",
    "#print(\"First features:\", feature_names[200:500])"
   ]
  },
  {
   "cell_type": "code",
   "execution_count": 14,
   "id": "3130ce30-8aba-4794-bf41-45eb37e05c1e",
   "metadata": {},
   "outputs": [],
   "source": [
    "os.makedirs(\"data\", exist_ok=True)\n",
    "combined.to_csv(\"data/processed_data.csv\")"
   ]
  },
  {
   "cell_type": "code",
   "execution_count": 15,
   "id": "0d31358d-a6b5-49b1-a998-799301d215a8",
   "metadata": {},
   "outputs": [
    {
     "name": "stdout",
     "output_type": "stream",
     "text": [
      "       Unnamed: 0 Unnamed0                                              title  \\\n",
      "0               0      NaN                              to kill a mockingbird   \n",
      "1               1      NaN  harry potter and the philosopher’s stone (harr...   \n",
      "2               2      NaN                                pride and prejudice   \n",
      "3               3      NaN                          the diary of a young girl   \n",
      "4               4      NaN                                        animal farm   \n",
      "...           ...      ...                                                ...   \n",
      "13528       13673           learn jquery from scratch - master of javascri...   \n",
      "13529       13674           how to design a wordpress website with no codi...   \n",
      "13530       13675                               learn and build using polymer   \n",
      "13531       13676           css animations: create amazing effects on your...   \n",
      "13532       13677           using modx cms to build websites: a beginner's...   \n",
      "\n",
      "                                             Description  \\\n",
      "0      the unforgettable novel of a childhood in a sl...   \n",
      "1      harry potter thinks he is an ordinary boy - un...   \n",
      "2      since its immediate success in 1813, pride and...   \n",
      "3      discovered in the attic in which she spent the...   \n",
      "4      librarian's note: there is an alternate cover ...   \n",
      "...                                                  ...   \n",
      "13528                                                      \n",
      "13529                                                      \n",
      "13530                                                      \n",
      "13531                                                      \n",
      "13532                                                      \n",
      "\n",
      "                                                     tag  \\\n",
      "0      ['classics', 'fiction', 'historical fiction', ...   \n",
      "1      ['fantasy', 'fiction', 'young adult', 'magic',...   \n",
      "2      ['classics', 'fiction', 'romance', 'historical...   \n",
      "3      ['classics', 'nonfiction', 'history', 'biograp...   \n",
      "4      ['classics', 'fiction', 'dystopia', 'fantasy',...   \n",
      "...                                                  ...   \n",
      "13528                                    web development   \n",
      "13529                                    web development   \n",
      "13530                                    web development   \n",
      "13531                                    web development   \n",
      "13532                                    web development   \n",
      "\n",
      "                                                     url  \\\n",
      "0      https://www.goodreads.com/book/show/2657.to_ki...   \n",
      "1      https://www.goodreads.com/book/show/72193.harr...   \n",
      "2      https://www.goodreads.com/book/show/1885.pride...   \n",
      "3      https://www.goodreads.com/book/show/48855.the_...   \n",
      "4      https://www.goodreads.com/book/show/170448.ani...   \n",
      "...                                                  ...   \n",
      "13528  https://www.udemy.com/easy-jquery-for-beginner...   \n",
      "13529  https://www.udemy.com/how-to-make-a-wordpress-...   \n",
      "13530  https://www.udemy.com/learn-and-build-using-po...   \n",
      "13531  https://www.udemy.com/css-animations-create-am...   \n",
      "13532  https://www.udemy.com/using-modx-cms-to-build-...   \n",
      "\n",
      "                                           combined_data  \n",
      "0      to kill a mockingbird the unforgettable novel ...  \n",
      "1      harry potter and the philosopher’s stone (harr...  \n",
      "2      pride and prejudice since its immediate succes...  \n",
      "3      the diary of a young girl discovered in the at...  \n",
      "4      animal farm librarian's note: there is an alte...  \n",
      "...                                                  ...  \n",
      "13528  learn jquery from scratch - master of javascri...  \n",
      "13529  how to design a wordpress website with no codi...  \n",
      "13530    learn and build using polymer   web development  \n",
      "13531  css animations: create amazing effects on your...  \n",
      "13532  using modx cms to build websites: a beginner's...  \n",
      "\n",
      "[13533 rows x 7 columns]\n"
     ]
    }
   ],
   "source": [
    "df = pd.read_csv(\"data/processed_data.csv\")\n",
    "print(df)"
   ]
  }
 ],
 "metadata": {
  "kernelspec": {
   "display_name": "Python 3 (ipykernel)",
   "language": "python",
   "name": "python3"
  },
  "language_info": {
   "codemirror_mode": {
    "name": "ipython",
    "version": 3
   },
   "file_extension": ".py",
   "mimetype": "text/x-python",
   "name": "python",
   "nbconvert_exporter": "python",
   "pygments_lexer": "ipython3",
   "version": "3.13.2"
  }
 },
 "nbformat": 4,
 "nbformat_minor": 5
}
